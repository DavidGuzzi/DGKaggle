{
 "cells": [
  {
   "cell_type": "markdown",
   "metadata": {},
   "source": [
    "## **New York City Taxi Fare Prediction - by David Guzzi**"
   ]
  },
  {
   "cell_type": "code",
   "execution_count": 45,
   "metadata": {},
   "outputs": [],
   "source": [
    "import pandas as pd\n",
    "import numpy as np\n",
    "import matplotlib.pyplot as plt\n",
    "\n",
    "pd.set_option('display.float_format', '{:.2f}'.format)"
   ]
  },
  {
   "cell_type": "code",
   "execution_count": 46,
   "metadata": {},
   "outputs": [
    {
     "data": {
      "text/html": [
       "<div>\n",
       "<style scoped>\n",
       "    .dataframe tbody tr th:only-of-type {\n",
       "        vertical-align: middle;\n",
       "    }\n",
       "\n",
       "    .dataframe tbody tr th {\n",
       "        vertical-align: top;\n",
       "    }\n",
       "\n",
       "    .dataframe thead th {\n",
       "        text-align: right;\n",
       "    }\n",
       "</style>\n",
       "<table border=\"1\" class=\"dataframe\">\n",
       "  <thead>\n",
       "    <tr style=\"text-align: right;\">\n",
       "      <th></th>\n",
       "      <th>Unnamed: 0</th>\n",
       "      <th>key</th>\n",
       "      <th>fare_amount</th>\n",
       "      <th>pickup_datetime</th>\n",
       "      <th>pickup_longitude</th>\n",
       "      <th>pickup_latitude</th>\n",
       "      <th>dropoff_longitude</th>\n",
       "      <th>dropoff_latitude</th>\n",
       "      <th>passenger_count</th>\n",
       "    </tr>\n",
       "  </thead>\n",
       "  <tbody>\n",
       "    <tr>\n",
       "      <th>0</th>\n",
       "      <td>17358777</td>\n",
       "      <td>2009-12-16 19:56:08.0000002</td>\n",
       "      <td>6.10</td>\n",
       "      <td>2009-12-16 19:56:08 UTC</td>\n",
       "      <td>-73.96</td>\n",
       "      <td>40.77</td>\n",
       "      <td>-73.97</td>\n",
       "      <td>40.76</td>\n",
       "      <td>1</td>\n",
       "    </tr>\n",
       "    <tr>\n",
       "      <th>1</th>\n",
       "      <td>53320139</td>\n",
       "      <td>2012-05-03 09:31:00.000000164</td>\n",
       "      <td>6.10</td>\n",
       "      <td>2012-05-03 09:31:00 UTC</td>\n",
       "      <td>-74.00</td>\n",
       "      <td>40.74</td>\n",
       "      <td>-73.99</td>\n",
       "      <td>40.74</td>\n",
       "      <td>1</td>\n",
       "    </tr>\n",
       "    <tr>\n",
       "      <th>2</th>\n",
       "      <td>42864741</td>\n",
       "      <td>2013-07-25 19:08:33.0000003</td>\n",
       "      <td>11.50</td>\n",
       "      <td>2013-07-25 19:08:33 UTC</td>\n",
       "      <td>-73.97</td>\n",
       "      <td>40.74</td>\n",
       "      <td>-73.99</td>\n",
       "      <td>40.74</td>\n",
       "      <td>1</td>\n",
       "    </tr>\n",
       "    <tr>\n",
       "      <th>3</th>\n",
       "      <td>26375625</td>\n",
       "      <td>2011-12-02 16:30:00.00000089</td>\n",
       "      <td>3.30</td>\n",
       "      <td>2011-12-02 16:30:00 UTC</td>\n",
       "      <td>-73.97</td>\n",
       "      <td>40.77</td>\n",
       "      <td>-73.97</td>\n",
       "      <td>40.77</td>\n",
       "      <td>1</td>\n",
       "    </tr>\n",
       "    <tr>\n",
       "      <th>4</th>\n",
       "      <td>41418930</td>\n",
       "      <td>2014-01-08 03:43:57.0000001</td>\n",
       "      <td>19.50</td>\n",
       "      <td>2014-01-08 03:43:57 UTC</td>\n",
       "      <td>-73.98</td>\n",
       "      <td>40.75</td>\n",
       "      <td>-73.89</td>\n",
       "      <td>40.77</td>\n",
       "      <td>1</td>\n",
       "    </tr>\n",
       "  </tbody>\n",
       "</table>\n",
       "</div>"
      ],
      "text/plain": [
       "   Unnamed: 0                            key  fare_amount  \\\n",
       "0    17358777    2009-12-16 19:56:08.0000002         6.10   \n",
       "1    53320139  2012-05-03 09:31:00.000000164         6.10   \n",
       "2    42864741    2013-07-25 19:08:33.0000003        11.50   \n",
       "3    26375625   2011-12-02 16:30:00.00000089         3.30   \n",
       "4    41418930    2014-01-08 03:43:57.0000001        19.50   \n",
       "\n",
       "           pickup_datetime  pickup_longitude  pickup_latitude  \\\n",
       "0  2009-12-16 19:56:08 UTC            -73.96            40.77   \n",
       "1  2012-05-03 09:31:00 UTC            -74.00            40.74   \n",
       "2  2013-07-25 19:08:33 UTC            -73.97            40.74   \n",
       "3  2011-12-02 16:30:00 UTC            -73.97            40.77   \n",
       "4  2014-01-08 03:43:57 UTC            -73.98            40.75   \n",
       "\n",
       "   dropoff_longitude  dropoff_latitude  passenger_count  \n",
       "0             -73.97             40.76                1  \n",
       "1             -73.99             40.74                1  \n",
       "2             -73.99             40.74                1  \n",
       "3             -73.97             40.77                1  \n",
       "4             -73.89             40.77                1  "
      ]
     },
     "execution_count": 46,
     "metadata": {},
     "output_type": "execute_result"
    }
   ],
   "source": [
    "#Lectura y visualización de información\n",
    "df = pd.read_csv('train_s.csv')\n",
    "df.head()"
   ]
  },
  {
   "cell_type": "code",
   "execution_count": 47,
   "metadata": {},
   "outputs": [
    {
     "data": {
      "text/html": [
       "<div>\n",
       "<style scoped>\n",
       "    .dataframe tbody tr th:only-of-type {\n",
       "        vertical-align: middle;\n",
       "    }\n",
       "\n",
       "    .dataframe tbody tr th {\n",
       "        vertical-align: top;\n",
       "    }\n",
       "\n",
       "    .dataframe thead th {\n",
       "        text-align: right;\n",
       "    }\n",
       "</style>\n",
       "<table border=\"1\" class=\"dataframe\">\n",
       "  <thead>\n",
       "    <tr style=\"text-align: right;\">\n",
       "      <th></th>\n",
       "      <th>key</th>\n",
       "      <th>fare_amount</th>\n",
       "      <th>pickup_datetime</th>\n",
       "      <th>pickup_longitude</th>\n",
       "      <th>pickup_latitude</th>\n",
       "      <th>dropoff_longitude</th>\n",
       "      <th>dropoff_latitude</th>\n",
       "      <th>passenger_count</th>\n",
       "    </tr>\n",
       "  </thead>\n",
       "  <tbody>\n",
       "    <tr>\n",
       "      <th>0</th>\n",
       "      <td>2009-12-16 19:56:08.0000002</td>\n",
       "      <td>6.10</td>\n",
       "      <td>2009-12-16 19:56:08 UTC</td>\n",
       "      <td>-73.96</td>\n",
       "      <td>40.77</td>\n",
       "      <td>-73.97</td>\n",
       "      <td>40.76</td>\n",
       "      <td>1</td>\n",
       "    </tr>\n",
       "    <tr>\n",
       "      <th>1</th>\n",
       "      <td>2012-05-03 09:31:00.000000164</td>\n",
       "      <td>6.10</td>\n",
       "      <td>2012-05-03 09:31:00 UTC</td>\n",
       "      <td>-74.00</td>\n",
       "      <td>40.74</td>\n",
       "      <td>-73.99</td>\n",
       "      <td>40.74</td>\n",
       "      <td>1</td>\n",
       "    </tr>\n",
       "    <tr>\n",
       "      <th>2</th>\n",
       "      <td>2013-07-25 19:08:33.0000003</td>\n",
       "      <td>11.50</td>\n",
       "      <td>2013-07-25 19:08:33 UTC</td>\n",
       "      <td>-73.97</td>\n",
       "      <td>40.74</td>\n",
       "      <td>-73.99</td>\n",
       "      <td>40.74</td>\n",
       "      <td>1</td>\n",
       "    </tr>\n",
       "    <tr>\n",
       "      <th>3</th>\n",
       "      <td>2011-12-02 16:30:00.00000089</td>\n",
       "      <td>3.30</td>\n",
       "      <td>2011-12-02 16:30:00 UTC</td>\n",
       "      <td>-73.97</td>\n",
       "      <td>40.77</td>\n",
       "      <td>-73.97</td>\n",
       "      <td>40.77</td>\n",
       "      <td>1</td>\n",
       "    </tr>\n",
       "    <tr>\n",
       "      <th>4</th>\n",
       "      <td>2014-01-08 03:43:57.0000001</td>\n",
       "      <td>19.50</td>\n",
       "      <td>2014-01-08 03:43:57 UTC</td>\n",
       "      <td>-73.98</td>\n",
       "      <td>40.75</td>\n",
       "      <td>-73.89</td>\n",
       "      <td>40.77</td>\n",
       "      <td>1</td>\n",
       "    </tr>\n",
       "  </tbody>\n",
       "</table>\n",
       "</div>"
      ],
      "text/plain": [
       "                             key  fare_amount          pickup_datetime  \\\n",
       "0    2009-12-16 19:56:08.0000002         6.10  2009-12-16 19:56:08 UTC   \n",
       "1  2012-05-03 09:31:00.000000164         6.10  2012-05-03 09:31:00 UTC   \n",
       "2    2013-07-25 19:08:33.0000003        11.50  2013-07-25 19:08:33 UTC   \n",
       "3   2011-12-02 16:30:00.00000089         3.30  2011-12-02 16:30:00 UTC   \n",
       "4    2014-01-08 03:43:57.0000001        19.50  2014-01-08 03:43:57 UTC   \n",
       "\n",
       "   pickup_longitude  pickup_latitude  dropoff_longitude  dropoff_latitude  \\\n",
       "0            -73.96            40.77             -73.97             40.76   \n",
       "1            -74.00            40.74             -73.99             40.74   \n",
       "2            -73.97            40.74             -73.99             40.74   \n",
       "3            -73.97            40.77             -73.97             40.77   \n",
       "4            -73.98            40.75             -73.89             40.77   \n",
       "\n",
       "   passenger_count  \n",
       "0                1  \n",
       "1                1  \n",
       "2                1  \n",
       "3                1  \n",
       "4                1  "
      ]
     },
     "execution_count": 47,
     "metadata": {},
     "output_type": "execute_result"
    }
   ],
   "source": [
    "#Eliminación de primera columna\n",
    "df = df.iloc[:,1:]\n",
    "df.head()"
   ]
  },
  {
   "cell_type": "code",
   "execution_count": 48,
   "metadata": {},
   "outputs": [
    {
     "name": "stdout",
     "output_type": "stream",
     "text": [
      "<class 'pandas.core.frame.DataFrame'>\n",
      "RangeIndex: 1662716 entries, 0 to 1662715\n",
      "Data columns (total 8 columns):\n",
      " #   Column             Non-Null Count    Dtype  \n",
      "---  ------             --------------    -----  \n",
      " 0   key                1662716 non-null  object \n",
      " 1   fare_amount        1662716 non-null  float64\n",
      " 2   pickup_datetime    1662716 non-null  object \n",
      " 3   pickup_longitude   1662716 non-null  float64\n",
      " 4   pickup_latitude    1662716 non-null  float64\n",
      " 5   dropoff_longitude  1662706 non-null  float64\n",
      " 6   dropoff_latitude   1662706 non-null  float64\n",
      " 7   passenger_count    1662716 non-null  int64  \n",
      "dtypes: float64(5), int64(1), object(2)\n",
      "memory usage: 101.5+ MB\n"
     ]
    }
   ],
   "source": [
    "#Detalles generales de la información\n",
    "df.info()"
   ]
  },
  {
   "cell_type": "code",
   "execution_count": 49,
   "metadata": {},
   "outputs": [
    {
     "data": {
      "text/plain": [
       "1662716"
      ]
     },
     "execution_count": 49,
     "metadata": {},
     "output_type": "execute_result"
    }
   ],
   "source": [
    "#Corroboramos que sean registros únicos\n",
    "df['key'].nunique()"
   ]
  },
  {
   "cell_type": "code",
   "execution_count": 50,
   "metadata": {},
   "outputs": [
    {
     "name": "stdout",
     "output_type": "stream",
     "text": [
      "<class 'pandas.core.frame.DataFrame'>\n",
      "RangeIndex: 1662716 entries, 0 to 1662715\n",
      "Data columns (total 8 columns):\n",
      " #   Column             Non-Null Count    Dtype              \n",
      "---  ------             --------------    -----              \n",
      " 0   key                1662716 non-null  object             \n",
      " 1   fare_amount        1662716 non-null  float64            \n",
      " 2   pickup_datetime    1662716 non-null  datetime64[ns, UTC]\n",
      " 3   pickup_longitude   1662716 non-null  float64            \n",
      " 4   pickup_latitude    1662716 non-null  float64            \n",
      " 5   dropoff_longitude  1662706 non-null  float64            \n",
      " 6   dropoff_latitude   1662706 non-null  float64            \n",
      " 7   passenger_count    1662716 non-null  int64              \n",
      "dtypes: datetime64[ns, UTC](1), float64(5), int64(1), object(1)\n",
      "memory usage: 101.5+ MB\n"
     ]
    }
   ],
   "source": [
    "#Adecuamos formato a columna 'pickup_datetime' y corroboramos\n",
    "df['pickup_datetime'] = pd.to_datetime(df['pickup_datetime'])\n",
    "df.info()"
   ]
  },
  {
   "cell_type": "code",
   "execution_count": 51,
   "metadata": {},
   "outputs": [
    {
     "data": {
      "text/html": [
       "<div>\n",
       "<style scoped>\n",
       "    .dataframe tbody tr th:only-of-type {\n",
       "        vertical-align: middle;\n",
       "    }\n",
       "\n",
       "    .dataframe tbody tr th {\n",
       "        vertical-align: top;\n",
       "    }\n",
       "\n",
       "    .dataframe thead th {\n",
       "        text-align: right;\n",
       "    }\n",
       "</style>\n",
       "<table border=\"1\" class=\"dataframe\">\n",
       "  <thead>\n",
       "    <tr style=\"text-align: right;\">\n",
       "      <th></th>\n",
       "      <th>fare_amount</th>\n",
       "    </tr>\n",
       "  </thead>\n",
       "  <tbody>\n",
       "    <tr>\n",
       "      <th>count</th>\n",
       "      <td>1662716.00</td>\n",
       "    </tr>\n",
       "    <tr>\n",
       "      <th>mean</th>\n",
       "      <td>11.33</td>\n",
       "    </tr>\n",
       "    <tr>\n",
       "      <th>std</th>\n",
       "      <td>9.82</td>\n",
       "    </tr>\n",
       "    <tr>\n",
       "      <th>min</th>\n",
       "      <td>-52.00</td>\n",
       "    </tr>\n",
       "    <tr>\n",
       "      <th>25%</th>\n",
       "      <td>6.00</td>\n",
       "    </tr>\n",
       "    <tr>\n",
       "      <th>50%</th>\n",
       "      <td>8.50</td>\n",
       "    </tr>\n",
       "    <tr>\n",
       "      <th>75%</th>\n",
       "      <td>12.50</td>\n",
       "    </tr>\n",
       "    <tr>\n",
       "      <th>max</th>\n",
       "      <td>850.00</td>\n",
       "    </tr>\n",
       "  </tbody>\n",
       "</table>\n",
       "</div>"
      ],
      "text/plain": [
       "       fare_amount\n",
       "count   1662716.00\n",
       "mean         11.33\n",
       "std           9.82\n",
       "min         -52.00\n",
       "25%           6.00\n",
       "50%           8.50\n",
       "75%          12.50\n",
       "max         850.00"
      ]
     },
     "execution_count": 51,
     "metadata": {},
     "output_type": "execute_result"
    }
   ],
   "source": [
    "#Exploraremos las posibles relaciones del Target con los Features de forma individual. Primero: 'passenger_count'\n",
    "#Exploraremos la variable o target a predecir: 'fare_amount'\n",
    "df[['fare_amount']].describe()"
   ]
  },
  {
   "cell_type": "code",
   "execution_count": 52,
   "metadata": {},
   "outputs": [
    {
     "data": {
      "image/png": "[encoded data removed]",
      "text/plain": [
       "<Figure size 640x480 with 1 Axes>"
      ]
     },
     "metadata": {},
     "output_type": "display_data"
    }
   ],
   "source": [
    "fig, ax = plt.subplots()\n",
    "ax.hist(df['fare_amount'], bins=1000)\n",
    "ax.set_title('Fare amount distribution')\n",
    "plt.show()"
   ]
  },
  {
   "cell_type": "markdown",
   "metadata": {},
   "source": [
    "El histograma de 'fare_amount' revela que la misma posee tanto valores ilógicos (valores negativos) como valores positivos extremos.\n",
    "\n",
    "Para una mejor visualización, se presentan 3 nuevas visualizaciones "
   ]
  },
  {
   "cell_type": "code",
   "execution_count": 53,
   "metadata": {},
   "outputs": [
    {
     "data": {
      "image/png": "[encoded data removed]",
      "text/plain": [
       "<Figure size 640x480 with 1 Axes>"
      ]
     },
     "metadata": {},
     "output_type": "display_data"
    }
   ],
   "source": [
    "fig, ax = plt.subplots()\n",
    "ax.hist(df[(df['fare_amount'] < 100) & (df['fare_amount'] > 0)]['fare_amount'], bins=100)\n",
    "ax.set_title('Fare amount distribution - > 0 and < 100')\n",
    "plt.show()"
   ]
  },
  {
   "cell_type": "code",
   "execution_count": 54,
   "metadata": {},
   "outputs": [
    {
     "data": {
      "image/png": "[encoded data removed]",
      "text/plain": [
       "<Figure size 640x480 with 1 Axes>"
      ]
     },
     "metadata": {},
     "output_type": "display_data"
    }
   ],
   "source": [
    "fig, ax = plt.subplots()\n",
    "ax.hist(df[df['fare_amount'] < 0]['fare_amount'], bins=100)\n",
    "ax.set_title('Fare amount distribution - < 0')\n",
    "plt.show()"
   ]
  },
  {
   "cell_type": "code",
   "execution_count": 58,
   "metadata": {},
   "outputs": [
    {
     "data": {
      "image/png": "[encoded data removed]",
      "text/plain": [
       "<Figure size 640x480 with 1 Axes>"
      ]
     },
     "metadata": {},
     "output_type": "display_data"
    }
   ],
   "source": [
    "fig, ax = plt.subplots()\n",
    "ax.hist(df[df['fare_amount'] > 400]['fare_amount'], bins=100)\n",
    "ax.set_title('Fare amount distribution - > 400')\n",
    "plt.show()"
   ]
  },
  {
   "cell_type": "code",
   "execution_count": 59,
   "metadata": {},
   "outputs": [],
   "source": [
    "#En primer ligar, se eliminan aquellos registros con valores negativos en target 'fare_amount' por considerarse ilógicos\n",
    "df = df[df['fare_amount'] > 0]"
   ]
  },
  {
   "cell_type": "code",
   "execution_count": null,
   "metadata": {},
   "outputs": [],
   "source": [
    "#Se analizan si los datos extremos positivos constituyen outliers y se determinan decisiones a tomar\n"
   ]
  },
  {
   "cell_type": "code",
   "execution_count": 57,
   "metadata": {},
   "outputs": [],
   "source": [
    "# df[(df['pickup_longitude'] == df['dropoff_longitude']) & (df['pickup_latitude'] == df['dropoff_latitude'])]"
   ]
  },
  {
   "cell_type": "code",
   "execution_count": 61,
   "metadata": {},
   "outputs": [],
   "source": [
    "def haversine(lon1, lat1, lon2, lat2):\n",
    "    # Convertir grados a radianes\n",
    "    lon1, lat1, lon2, lat2 = map(np.radians, [lon1, lat1, lon2, lat2])\n",
    "\n",
    "    # Diferencias de coordenadas\n",
    "    dlon = lon2 - lon1\n",
    "    dlat = lat2 - lat1\n",
    "\n",
    "    # Fórmula de Haversine\n",
    "    a = np.sin(dlat / 2.0)**2 + np.cos(lat1) * np.cos(lat2) * np.sin(dlon / 2.0)**2\n",
    "    c = 2 * np.arcsin(np.sqrt(a))\n",
    "    r = 6371  # Radio de la Tierra en kilómetros\n",
    "    return c * r"
   ]
  },
  {
   "cell_type": "code",
   "execution_count": 63,
   "metadata": {},
   "outputs": [
    {
     "data": {
      "text/plain": [
       "0   -73.96\n",
       "1   -74.00\n",
       "2   -73.97\n",
       "3   -73.97\n",
       "4   -73.98\n",
       "Name: pickup_longitude, dtype: float64"
      ]
     },
     "execution_count": 63,
     "metadata": {},
     "output_type": "execute_result"
    }
   ],
   "source": [
    "df['distance'] = df.apply(lambda row: haversine(row['pickup_longitude'], row['pickup_latitude'], row['dropoff_longitude'], row['dropoff_latitude']), axis=1)"
   ]
  },
  {
   "cell_type": "code",
   "execution_count": 65,
   "metadata": {},
   "outputs": [
    {
     "data": {
      "text/html": [
       "<div>\n",
       "<style scoped>\n",
       "    .dataframe tbody tr th:only-of-type {\n",
       "        vertical-align: middle;\n",
       "    }\n",
       "\n",
       "    .dataframe tbody tr th {\n",
       "        vertical-align: top;\n",
       "    }\n",
       "\n",
       "    .dataframe thead th {\n",
       "        text-align: right;\n",
       "    }\n",
       "</style>\n",
       "<table border=\"1\" class=\"dataframe\">\n",
       "  <thead>\n",
       "    <tr style=\"text-align: right;\">\n",
       "      <th></th>\n",
       "      <th>key</th>\n",
       "      <th>fare_amount</th>\n",
       "      <th>pickup_datetime</th>\n",
       "      <th>pickup_longitude</th>\n",
       "      <th>pickup_latitude</th>\n",
       "      <th>dropoff_longitude</th>\n",
       "      <th>dropoff_latitude</th>\n",
       "      <th>passenger_count</th>\n",
       "      <th>distancia</th>\n",
       "      <th>distance</th>\n",
       "    </tr>\n",
       "  </thead>\n",
       "  <tbody>\n",
       "    <tr>\n",
       "      <th>1662711</th>\n",
       "      <td>2010-07-12 15:13:00.00000069</td>\n",
       "      <td>4.90</td>\n",
       "      <td>2010-07-12 15:13:00+00:00</td>\n",
       "      <td>-73.96</td>\n",
       "      <td>40.77</td>\n",
       "      <td>-73.96</td>\n",
       "      <td>40.78</td>\n",
       "      <td>1</td>\n",
       "      <td>1.10</td>\n",
       "      <td>1.10</td>\n",
       "    </tr>\n",
       "    <tr>\n",
       "      <th>1662712</th>\n",
       "      <td>2011-02-13 19:45:44.0000007</td>\n",
       "      <td>3.70</td>\n",
       "      <td>2011-02-13 19:45:44+00:00</td>\n",
       "      <td>-73.99</td>\n",
       "      <td>40.75</td>\n",
       "      <td>-73.99</td>\n",
       "      <td>40.74</td>\n",
       "      <td>1</td>\n",
       "      <td>0.72</td>\n",
       "      <td>0.72</td>\n",
       "    </tr>\n",
       "    <tr>\n",
       "      <th>1662713</th>\n",
       "      <td>2012-04-29 19:43:00.000000186</td>\n",
       "      <td>7.70</td>\n",
       "      <td>2012-04-29 19:43:00+00:00</td>\n",
       "      <td>-73.98</td>\n",
       "      <td>40.77</td>\n",
       "      <td>-73.96</td>\n",
       "      <td>40.77</td>\n",
       "      <td>1</td>\n",
       "      <td>2.25</td>\n",
       "      <td>2.25</td>\n",
       "    </tr>\n",
       "    <tr>\n",
       "      <th>1662714</th>\n",
       "      <td>2014-03-31 19:44:31.0000001</td>\n",
       "      <td>10.50</td>\n",
       "      <td>2014-03-31 19:44:31+00:00</td>\n",
       "      <td>-73.95</td>\n",
       "      <td>40.78</td>\n",
       "      <td>-73.98</td>\n",
       "      <td>40.77</td>\n",
       "      <td>1</td>\n",
       "      <td>2.74</td>\n",
       "      <td>2.74</td>\n",
       "    </tr>\n",
       "    <tr>\n",
       "      <th>1662715</th>\n",
       "      <td>2010-07-04 17:43:15.0000002</td>\n",
       "      <td>7.30</td>\n",
       "      <td>2010-07-04 17:43:15+00:00</td>\n",
       "      <td>-73.98</td>\n",
       "      <td>40.74</td>\n",
       "      <td>-74.01</td>\n",
       "      <td>40.74</td>\n",
       "      <td>1</td>\n",
       "      <td>2.48</td>\n",
       "      <td>2.48</td>\n",
       "    </tr>\n",
       "  </tbody>\n",
       "</table>\n",
       "</div>"
      ],
      "text/plain": [
       "                                   key  fare_amount           pickup_datetime  \\\n",
       "1662711   2010-07-12 15:13:00.00000069         4.90 2010-07-12 15:13:00+00:00   \n",
       "1662712    2011-02-13 19:45:44.0000007         3.70 2011-02-13 19:45:44+00:00   \n",
       "1662713  2012-04-29 19:43:00.000000186         7.70 2012-04-29 19:43:00+00:00   \n",
       "1662714    2014-03-31 19:44:31.0000001        10.50 2014-03-31 19:44:31+00:00   \n",
       "1662715    2010-07-04 17:43:15.0000002         7.30 2010-07-04 17:43:15+00:00   \n",
       "\n",
       "         pickup_longitude  pickup_latitude  dropoff_longitude  \\\n",
       "1662711            -73.96            40.77             -73.96   \n",
       "1662712            -73.99            40.75             -73.99   \n",
       "1662713            -73.98            40.77             -73.96   \n",
       "1662714            -73.95            40.78             -73.98   \n",
       "1662715            -73.98            40.74             -74.01   \n",
       "\n",
       "         dropoff_latitude  passenger_count  distancia  distance  \n",
       "1662711             40.78                1       1.10      1.10  \n",
       "1662712             40.74                1       0.72      0.72  \n",
       "1662713             40.77                1       2.25      2.25  \n",
       "1662714             40.77                1       2.74      2.74  \n",
       "1662715             40.74                1       2.48      2.48  "
      ]
     },
     "execution_count": 65,
     "metadata": {},
     "output_type": "execute_result"
    }
   ],
   "source": [
    "df.tail()"
   ]
  }
 ],
 "metadata": {
  "kernelspec": {
   "display_name": "Python 3",
   "language": "python",
   "name": "python3"
  },
  "language_info": {
   "codemirror_mode": {
    "name": "ipython",
    "version": 3
   },
   "file_extension": ".py",
   "mimetype": "text/x-python",
   "name": "python",
   "nbconvert_exporter": "python",
   "pygments_lexer": "ipython3",
   "version": "3.12.2"
  }
 },
 "nbformat": 4,
 "nbformat_minor": 2
}
